{
 "cells": [
  {
   "cell_type": "code",
   "execution_count": null,
   "id": "ac49cdfe",
   "metadata": {},
   "outputs": [],
   "source": [
    "###   Q 24)   A Government  company claims that an average light bulb lasts 270 days. A researcher randomly selects 18 bulbs\n",
    "### for testing. The sampled bulbs last an average of 260 days, with a standard deviation of 90 days. If the CEO's claim were\n",
    "### true, what is the probability that 18 randomly selected bulbs would have an average life of no more than 260 days.\n",
    "### Hint:     rcode   pt(tscore,df)    df  degrees of freedom\n"
   ]
  },
  {
   "cell_type": "code",
   "execution_count": 2,
   "id": "aa697aa8",
   "metadata": {},
   "outputs": [],
   "source": [
    "### importing required libraries\n",
    "\n",
    "from scipy import stats\n",
    "from scipy.stats import norm"
   ]
  },
  {
   "cell_type": "code",
   "execution_count": 6,
   "id": "cb088330",
   "metadata": {},
   "outputs": [
    {
     "data": {
      "text/plain": [
       "-0.4714045207910317"
      ]
     },
     "execution_count": 6,
     "metadata": {},
     "output_type": "execute_result"
    }
   ],
   "source": [
    "### As the sample size is less than 30 and standard deviation is unknown, we need to calculate t score. \n",
    "## for t score at X = 260,\n",
    "### t score formula = (sample mean - population mean)/[sample standard deviation/sqrt(n)]\n",
    "\n",
    "# T score at Sample mean= 260, Population mean, P= 270, sample standard deviation = 90, number of samples , n = 18\n",
    "\n",
    "t = (260-270)/(90/(18**0.5))\n",
    "t\n"
   ]
  },
  {
   "cell_type": "code",
   "execution_count": 7,
   "id": "935d75e4",
   "metadata": {},
   "outputs": [
    {
     "data": {
      "text/plain": [
       "0.32167253567098364"
      ]
     },
     "execution_count": 7,
     "metadata": {},
     "output_type": "execute_result"
    }
   ],
   "source": [
    "### For P>=260 for null hypotheses \n",
    "\n",
    "### #  Using sf function p_value=stats.t.sf(abs(t_score),df=n-1)\n",
    "p_value=stats.t.sf(abs(t),df=17)\n",
    "p_value"
   ]
  },
  {
   "cell_type": "code",
   "execution_count": null,
   "id": "24719442",
   "metadata": {},
   "outputs": [],
   "source": []
  }
 ],
 "metadata": {
  "kernelspec": {
   "display_name": "Python 3",
   "language": "python",
   "name": "python3"
  },
  "language_info": {
   "codemirror_mode": {
    "name": "ipython",
    "version": 3
   },
   "file_extension": ".py",
   "mimetype": "text/x-python",
   "name": "python",
   "nbconvert_exporter": "python",
   "pygments_lexer": "ipython3",
   "version": "3.8.8"
  }
 },
 "nbformat": 4,
 "nbformat_minor": 5
}
